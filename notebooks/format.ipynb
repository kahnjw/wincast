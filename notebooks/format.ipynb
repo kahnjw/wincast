{
 "cells": [
  {
   "cell_type": "code",
   "execution_count": 1,
   "metadata": {
    "collapsed": true
   },
   "outputs": [],
   "source": [
    "import pandas as pd\n",
    "import numpy as np"
   ]
  },
  {
   "cell_type": "code",
   "execution_count": 6,
   "metadata": {
    "collapsed": true
   },
   "outputs": [],
   "source": [
    "def off_win(row, games_df):\n",
    "    score = games_df.iloc[row.loc['gid'] - 1]\n",
    "\n",
    "    if row['off'] == score['h']:\n",
    "\n",
    "        if score.ptsh > score.ptsv:\n",
    "            return 1\n",
    "        else:\n",
    "            return 0\n",
    "\n",
    "\n",
    "    elif row['off'] == score['v']:\n",
    "\n",
    "        if score.ptsv > score.ptsh:\n",
    "            return 1\n",
    "\n",
    "        else:\n",
    "            return 0\n",
    "\n",
    "    else:\n",
    "        raise Exception('Teams do not match: %s vs. %s; %s vs. %s' % (\n",
    "            row['off'], row['def'], score['v'], score['h']))"
   ]
  },
  {
   "cell_type": "code",
   "execution_count": 7,
   "metadata": {
    "collapsed": false
   },
   "outputs": [],
   "source": [
    "plays_df = pd.read_csv('../data/raw/PLAY.csv')\n",
    "games_df = pd.read_csv('../data/raw/GAME.csv')"
   ]
  },
  {
   "cell_type": "code",
   "execution_count": 8,
   "metadata": {
    "collapsed": true
   },
   "outputs": [],
   "source": [
    "plays_df = plays_df.loc[:, [\n",
    "    'gid',\n",
    "    'off',\n",
    "    'def',\n",
    "    'qtr',\n",
    "    'min',\n",
    "    'sec',\n",
    "    'ptso',\n",
    "    'ptsd',\n",
    "    'timo',\n",
    "    'timd',\n",
    "    'dwn',\n",
    "    'ytg',\n",
    "    'yfog'\n",
    "]]"
   ]
  },
  {
   "cell_type": "code",
   "execution_count": 10,
   "metadata": {
    "collapsed": false
   },
   "outputs": [],
   "source": [
    "plays_df['y'] = plays_df.apply(lambda row: off_win(row, games_df), axis=1)\n",
    "plays_df.to_csv('../data/Xy.csv')"
   ]
  },
  {
   "cell_type": "code",
   "execution_count": null,
   "metadata": {
    "collapsed": true
   },
   "outputs": [],
   "source": []
  }
 ],
 "metadata": {
  "kernelspec": {
   "display_name": "Python 3",
   "language": "python",
   "name": "python3"
  },
  "language_info": {
   "codemirror_mode": {
    "name": "ipython",
    "version": 3
   },
   "file_extension": ".py",
   "mimetype": "text/x-python",
   "name": "python",
   "nbconvert_exporter": "python",
   "pygments_lexer": "ipython3",
   "version": "3.5.3"
  }
 },
 "nbformat": 4,
 "nbformat_minor": 2
}
